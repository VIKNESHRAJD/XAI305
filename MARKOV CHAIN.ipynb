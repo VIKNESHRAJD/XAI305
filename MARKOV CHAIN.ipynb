{
 "cells": [
  {
   "cell_type": "code",
   "execution_count": 1,
   "id": "ecace554",
   "metadata": {},
   "outputs": [],
   "source": [
    "from protopunica import *\n",
    "import numpy as np"
   ]
  },
  {
   "cell_type": "code",
   "execution_count": 2,
   "id": "19e21426",
   "metadata": {},
   "outputs": [],
   "source": [
    "start = DiscreteDistribution({\"PIZZA\":1,\"Veg\":0})"
   ]
  },
  {
   "cell_type": "code",
   "execution_count": 3,
   "id": "ec3b5f47",
   "metadata": {},
   "outputs": [],
   "source": [
    "Transitions = ConditionalProbabilityTable([\n",
    "    [\"PIZZA\", \"PIZZA\", 0.75],\n",
    "    [\"PIZZA\", \"VEG\", 0.25],\n",
    "    [\"VEG\", \"VEG\",  0.6],\n",
    "    [\"VEG\", \"PIZZA\", 0.4],\n",
    "], [start])"
   ]
  },
  {
   "cell_type": "code",
   "execution_count": 4,
   "id": "205cdbe9",
   "metadata": {},
   "outputs": [],
   "source": [
    "Model=MarkovChain([start,Transitions])"
   ]
  },
  {
   "cell_type": "code",
   "execution_count": 5,
   "id": "e7eb8c87",
   "metadata": {},
   "outputs": [],
   "source": [
    "Random_samples=Model.sample(2)"
   ]
  },
  {
   "cell_type": "code",
   "execution_count": 6,
   "id": "95aeb99c",
   "metadata": {},
   "outputs": [
    {
     "name": "stdout",
     "output_type": "stream",
     "text": [
      "['PIZZA', 'PIZZA']\n"
     ]
    }
   ],
   "source": [
    "print(Random_samples)"
   ]
  },
  {
   "cell_type": "code",
   "execution_count": 7,
   "id": "5a58870c",
   "metadata": {},
   "outputs": [],
   "source": [
    "log_probability = Model.log_probability(Random_samples)"
   ]
  },
  {
   "cell_type": "code",
   "execution_count": 8,
   "id": "bcdad6bf",
   "metadata": {},
   "outputs": [],
   "source": [
    "Probability_of_Occurance= np.exp(log_probability)"
   ]
  },
  {
   "cell_type": "code",
   "execution_count": 9,
   "id": "95992929",
   "metadata": {},
   "outputs": [
    {
     "data": {
      "text/plain": [
       "0.75"
      ]
     },
     "execution_count": 9,
     "metadata": {},
     "output_type": "execute_result"
    }
   ],
   "source": [
    "Probability_of_Occurance"
   ]
  },
  {
   "cell_type": "code",
   "execution_count": 13,
   "id": "73a5fba5",
   "metadata": {},
   "outputs": [],
   "source": [
    "log_probability_Food_Sequence = Model.log_probability([\"PIZZA\",\"PIZZA\",\"PIZZA\"])"
   ]
  },
  {
   "cell_type": "code",
   "execution_count": 14,
   "id": "213945bb",
   "metadata": {},
   "outputs": [],
   "source": [
    "Probability_of_Food = np.exp(log_probability_Food_Sequence )"
   ]
  },
  {
   "cell_type": "code",
   "execution_count": 15,
   "id": "fb8534ee",
   "metadata": {},
   "outputs": [
    {
     "name": "stdout",
     "output_type": "stream",
     "text": [
      "0.5625\n"
     ]
    }
   ],
   "source": [
    "print (Probability_of_Food)"
   ]
  },
  {
   "cell_type": "code",
   "execution_count": null,
   "id": "eac92745",
   "metadata": {},
   "outputs": [],
   "source": []
  }
 ],
 "metadata": {
  "kernelspec": {
   "display_name": "Python 3 (ipykernel)",
   "language": "python",
   "name": "python3"
  },
  "language_info": {
   "codemirror_mode": {
    "name": "ipython",
    "version": 3
   },
   "file_extension": ".py",
   "mimetype": "text/x-python",
   "name": "python",
   "nbconvert_exporter": "python",
   "pygments_lexer": "ipython3",
   "version": "3.9.13"
  }
 },
 "nbformat": 4,
 "nbformat_minor": 5
}
