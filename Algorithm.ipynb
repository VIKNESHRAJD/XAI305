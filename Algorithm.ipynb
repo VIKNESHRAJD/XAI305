{
 "cells": [
  {
   "cell_type": "code",
   "execution_count": 1,
   "id": "ebb1f04c",
   "metadata": {},
   "outputs": [],
   "source": [
    "data = [30,31,18,15,20,19,11,1,9,10,7,6,4,5,16,12,22,25,27,28,35,33,32,38,37,21]"
   ]
  },
  {
   "cell_type": "code",
   "execution_count": 2,
   "id": "9c60e9c0",
   "metadata": {},
   "outputs": [],
   "source": [
    "data.sort()"
   ]
  },
  {
   "cell_type": "code",
   "execution_count": 3,
   "id": "33da0c1d",
   "metadata": {},
   "outputs": [
    {
     "name": "stdout",
     "output_type": "stream",
     "text": [
      "[1, 4, 5, 6, 7, 9, 10, 11, 12, 15, 16, 18, 19, 20, 21, 22, 25, 27, 28, 30, 31, 32, 33, 35, 37, 38]\n"
     ]
    }
   ],
   "source": [
    "print(data)"
   ]
  },
  {
   "cell_type": "code",
   "execution_count": 4,
   "id": "0e021e00",
   "metadata": {},
   "outputs": [
    {
     "name": "stdout",
     "output_type": "stream",
     "text": [
      "Enter the search element:25\n"
     ]
    }
   ],
   "source": [
    "elem = int(input(\"Enter the search element:\"))"
   ]
  },
  {
   "cell_type": "code",
   "execution_count": 8,
   "id": "59987ee0",
   "metadata": {},
   "outputs": [],
   "source": [
    "def binary_search (data, elem):\n",
    "    \n",
    "    low = 0\n",
    "    high = len(data) - 1\n",
    "    \n",
    "    while low <= high:\n",
    "        \n",
    "        middle = (low + high)//2\n",
    "        \n",
    "        if data[middle] == elem:\n",
    "            print(f\"The searching element {elem} present at index value {middle} in dataset\")\n",
    "            break\n",
    "            \n",
    "        elif data[middle] > elem:\n",
    "            high = middle - 1\n",
    "            \n",
    "        else :\n",
    "            low = middle + 1\n",
    "    if data[middle] != elem:\n",
    "        print(f\"The searching element {elem} is not present in dataset\")\n",
    "        return -1"
   ]
  },
  {
   "cell_type": "code",
   "execution_count": 9,
   "id": "f7cce7c4",
   "metadata": {},
   "outputs": [
    {
     "name": "stdout",
     "output_type": "stream",
     "text": [
      "The searching element 25 present at index value 16 in dataset\n"
     ]
    }
   ],
   "source": [
    "binary_search (data, elem)"
   ]
  },
  {
   "cell_type": "code",
   "execution_count": 10,
   "id": "be13f317",
   "metadata": {},
   "outputs": [
    {
     "name": "stdout",
     "output_type": "stream",
     "text": [
      "Before Sorting the Array in Ascending Order:\n",
      "[-2, 45, 0, 11, 9, 15, -11, 21, 12]\n",
      "After Before Sorting the Array in Ascending Order:\n",
      "[-11, -2, 0, 9, 11, 12, 15, 21, 45]\n"
     ]
    }
   ],
   "source": [
    "def bubbleSort(data):\n",
    "    \n",
    "    for i in range(len(data)):\n",
    "        \n",
    "        for j in range(0, len(data) - i - 1):\n",
    "            \n",
    "            if data[j] > data[j + 1]:\n",
    "             \n",
    "                temp = data[j]\n",
    "                data  [j] = data [j + 1]\n",
    "                data [j + 1] = temp\n",
    "        \n",
    "data = [-2, 45, 0, 11, 9, 15, -11, 21, 12]\n",
    "\n",
    "print('Before Sorting the Array in Ascending Order:')\n",
    "print(data)\n",
    "\n",
    "bubbleSort(data)\n",
    "\n",
    "print('After Before Sorting the Array in Ascending Order:')\n",
    "print(data) "
   ]
  },
  {
   "cell_type": "code",
   "execution_count": null,
   "id": "5cbe7de3",
   "metadata": {},
   "outputs": [],
   "source": []
  }
 ],
 "metadata": {
  "kernelspec": {
   "display_name": "Python 3 (ipykernel)",
   "language": "python",
   "name": "python3"
  },
  "language_info": {
   "codemirror_mode": {
    "name": "ipython",
    "version": 3
   },
   "file_extension": ".py",
   "mimetype": "text/x-python",
   "name": "python",
   "nbconvert_exporter": "python",
   "pygments_lexer": "ipython3",
   "version": "3.9.13"
  }
 },
 "nbformat": 4,
 "nbformat_minor": 5
}
