{
 "cells": [
  {
   "cell_type": "markdown",
   "id": "6beff3bb",
   "metadata": {},
   "source": [
    "# 1 Import Libraries"
   ]
  },
  {
   "cell_type": "code",
   "execution_count": 1,
   "id": "1ceece19",
   "metadata": {},
   "outputs": [],
   "source": [
    "from protopunica import*"
   ]
  },
  {
   "cell_type": "code",
   "execution_count": 2,
   "id": "6756fda6",
   "metadata": {},
   "outputs": [],
   "source": [
    "import pandas as pd"
   ]
  },
  {
   "cell_type": "markdown",
   "id": "eb7de84c",
   "metadata": {},
   "source": [
    "# 2 Observation Model"
   ]
  },
  {
   "cell_type": "code",
   "execution_count": 3,
   "id": "af499ef9",
   "metadata": {},
   "outputs": [],
   "source": [
    "sunny = DiscreteDistribution({\"raincoat\": 0.1,\"Hat\" : 0.9})\n",
    "\n",
    "rainy = DiscreteDistribution({\"raincoat\": 0.7,\"Hat\" : 0.3})"
   ]
  },
  {
   "cell_type": "markdown",
   "id": "52a6af41",
   "metadata": {},
   "source": [
    "# 3 Define States"
   ]
  },
  {
   "cell_type": "code",
   "execution_count": 4,
   "id": "1266ee5c",
   "metadata": {},
   "outputs": [],
   "source": [
    "states= [sunny,rainy]"
   ]
  },
  {
   "cell_type": "markdown",
   "id": "1c401246",
   "metadata": {},
   "source": [
    "# 4 Transition Model"
   ]
  },
  {
   "cell_type": "code",
   "execution_count": 5,
   "id": "0dbb6455",
   "metadata": {},
   "outputs": [],
   "source": [
    "transition_model = numpy.array([[0.7,0.3],[0.4,0.6]])"
   ]
  },
  {
   "cell_type": "markdown",
   "id": "15c45faa",
   "metadata": {},
   "source": [
    "# 5 Initial State"
   ]
  },
  {
   "cell_type": "code",
   "execution_count": 6,
   "id": "28225c83",
   "metadata": {},
   "outputs": [],
   "source": [
    "Initial_state=numpy.array([0.3,0.7])"
   ]
  },
  {
   "cell_type": "markdown",
   "id": "2548c6d6",
   "metadata": {},
   "source": [
    "# 6 Build the Model"
   ]
  },
  {
   "cell_type": "code",
   "execution_count": 7,
   "id": "d707fe00",
   "metadata": {},
   "outputs": [],
   "source": [
    "model=HiddenMarkovModel.from_matrix(transition_model,states,Initial_state,state_names=[\"sunny\",\"rainy\"])"
   ]
  },
  {
   "cell_type": "markdown",
   "id": "e3b87ff7",
   "metadata": {},
   "source": [
    "# 7 Bake the Model"
   ]
  },
  {
   "cell_type": "code",
   "execution_count": 8,
   "id": "97dcb836",
   "metadata": {},
   "outputs": [],
   "source": [
    "model.bake()"
   ]
  },
  {
   "cell_type": "markdown",
   "id": "3820f07e",
   "metadata": {},
   "source": [
    "# 8 Observation"
   ]
  },
  {
   "cell_type": "code",
   "execution_count": 9,
   "id": "91ec1131",
   "metadata": {},
   "outputs": [],
   "source": [
    "observations =[\"Hat\",\"Hat\",\"raincoat\",\"raincoat\",\"Hat\",\"Hat\",\"raincoat\",\"Hat\",\"Hat\",]"
   ]
  },
  {
   "cell_type": "markdown",
   "id": "75395bf5",
   "metadata": {},
   "source": [
    "# 9 Predict the States for Given Observation"
   ]
  },
  {
   "cell_type": "code",
   "execution_count": 10,
   "id": "30cae49d",
   "metadata": {},
   "outputs": [],
   "source": [
    "predictions = model.predict(observations)"
   ]
  },
  {
   "cell_type": "code",
   "execution_count": 11,
   "id": "caeae695",
   "metadata": {},
   "outputs": [
    {
     "data": {
      "text/plain": [
       "[1, 1, 0, 0, 1, 1, 0, 1, 1]"
      ]
     },
     "execution_count": 11,
     "metadata": {},
     "output_type": "execute_result"
    }
   ],
   "source": [
    "predictions"
   ]
  },
  {
   "cell_type": "markdown",
   "id": "cf4f920d",
   "metadata": {},
   "source": [
    "# 10 Model"
   ]
  },
  {
   "cell_type": "code",
   "execution_count": 12,
   "id": "b107e048",
   "metadata": {},
   "outputs": [
    {
     "data": {
      "text/plain": [
       "{\n",
       "    \"class\" : \"HiddenMarkovModel\",\n",
       "    \"name\" : \"None\",\n",
       "    \"start\" : {\n",
       "        \"class\" : \"State\",\n",
       "        \"distribution\" : null,\n",
       "        \"name\" : \"None-start\",\n",
       "        \"weight\" : 1.0\n",
       "    },\n",
       "    \"end\" : {\n",
       "        \"class\" : \"State\",\n",
       "        \"distribution\" : null,\n",
       "        \"name\" : \"None-end\",\n",
       "        \"weight\" : 1.0\n",
       "    },\n",
       "    \"states\" : [\n",
       "        {\n",
       "            \"class\" : \"State\",\n",
       "            \"distribution\" : {\n",
       "                \"class\" : \"Distribution\",\n",
       "                \"dtype\" : \"str\",\n",
       "                \"name\" : \"DiscreteDistribution\",\n",
       "                \"parameters\" : [\n",
       "                    {\n",
       "                        \"raincoat\" : 0.7,\n",
       "                        \"Hat\" : 0.3\n",
       "                    }\n",
       "                ],\n",
       "                \"frozen\" : false\n",
       "            },\n",
       "            \"name\" : \"rainy\",\n",
       "            \"weight\" : 1.0\n",
       "        },\n",
       "        {\n",
       "            \"class\" : \"State\",\n",
       "            \"distribution\" : {\n",
       "                \"class\" : \"Distribution\",\n",
       "                \"dtype\" : \"str\",\n",
       "                \"name\" : \"DiscreteDistribution\",\n",
       "                \"parameters\" : [\n",
       "                    {\n",
       "                        \"raincoat\" : 0.1,\n",
       "                        \"Hat\" : 0.9\n",
       "                    }\n",
       "                ],\n",
       "                \"frozen\" : false\n",
       "            },\n",
       "            \"name\" : \"sunny\",\n",
       "            \"weight\" : 1.0\n",
       "        },\n",
       "        {\n",
       "            \"class\" : \"State\",\n",
       "            \"distribution\" : null,\n",
       "            \"name\" : \"None-start\",\n",
       "            \"weight\" : 1.0\n",
       "        },\n",
       "        {\n",
       "            \"class\" : \"State\",\n",
       "            \"distribution\" : null,\n",
       "            \"name\" : \"None-end\",\n",
       "            \"weight\" : 1.0\n",
       "        }\n",
       "    ],\n",
       "    \"end_index\" : 3,\n",
       "    \"start_index\" : 2,\n",
       "    \"silent_index\" : 2,\n",
       "    \"edges\" : [\n",
       "        [\n",
       "            2,\n",
       "            1,\n",
       "            0.3,\n",
       "            0.3,\n",
       "            null\n",
       "        ],\n",
       "        [\n",
       "            2,\n",
       "            0,\n",
       "            0.7,\n",
       "            0.7,\n",
       "            null\n",
       "        ],\n",
       "        [\n",
       "            1,\n",
       "            1,\n",
       "            0.7,\n",
       "            0.7,\n",
       "            null\n",
       "        ],\n",
       "        [\n",
       "            1,\n",
       "            0,\n",
       "            0.3,\n",
       "            0.3,\n",
       "            null\n",
       "        ],\n",
       "        [\n",
       "            0,\n",
       "            1,\n",
       "            0.4,\n",
       "            0.4,\n",
       "            null\n",
       "        ],\n",
       "        [\n",
       "            0,\n",
       "            0,\n",
       "            0.6,\n",
       "            0.6,\n",
       "            null\n",
       "        ]\n",
       "    ],\n",
       "    \"distribution ties\" : []\n",
       "}"
      ]
     },
     "execution_count": 12,
     "metadata": {},
     "output_type": "execute_result"
    }
   ],
   "source": [
    "model"
   ]
  },
  {
   "cell_type": "code",
   "execution_count": 13,
   "id": "fcb4a6e7",
   "metadata": {},
   "outputs": [
    {
     "data": {
      "text/plain": [
       "11"
      ]
     },
     "execution_count": 13,
     "metadata": {},
     "output_type": "execute_result"
    }
   ],
   "source": [
    "11 "
   ]
  },
  {
   "cell_type": "code",
   "execution_count": 14,
   "id": "d157d5b8",
   "metadata": {},
   "outputs": [
    {
     "name": "stdout",
     "output_type": "stream",
     "text": [
      "sunny\n",
      "sunny\n",
      "rainy\n",
      "rainy\n",
      "sunny\n",
      "sunny\n",
      "rainy\n",
      "sunny\n",
      "sunny\n"
     ]
    }
   ],
   "source": [
    "for prediction in predictions:\n",
    "    print(model.states[prediction].name)"
   ]
  },
  {
   "cell_type": "code",
   "execution_count": 15,
   "id": "a5bdee58",
   "metadata": {},
   "outputs": [],
   "source": [
    "predicted_probabilites=model.predict_proba(observations)"
   ]
  },
  {
   "cell_type": "code",
   "execution_count": 16,
   "id": "b35432f1",
   "metadata": {},
   "outputs": [],
   "source": [
    "Most_likely_Weather=pd.DataFrame(predicted_probabilites,columns = [\"rainy\",\"sunny\"])"
   ]
  },
  {
   "cell_type": "code",
   "execution_count": 17,
   "id": "58d042ed",
   "metadata": {},
   "outputs": [
    {
     "data": {
      "text/html": [
       "<div>\n",
       "<style scoped>\n",
       "    .dataframe tbody tr th:only-of-type {\n",
       "        vertical-align: middle;\n",
       "    }\n",
       "\n",
       "    .dataframe tbody tr th {\n",
       "        vertical-align: top;\n",
       "    }\n",
       "\n",
       "    .dataframe thead th {\n",
       "        text-align: right;\n",
       "    }\n",
       "</style>\n",
       "<table border=\"1\" class=\"dataframe\">\n",
       "  <thead>\n",
       "    <tr style=\"text-align: right;\">\n",
       "      <th></th>\n",
       "      <th>rainy</th>\n",
       "      <th>sunny</th>\n",
       "    </tr>\n",
       "  </thead>\n",
       "  <tbody>\n",
       "    <tr>\n",
       "      <th>0</th>\n",
       "      <td>0.399892</td>\n",
       "      <td>0.600108</td>\n",
       "    </tr>\n",
       "    <tr>\n",
       "      <th>1</th>\n",
       "      <td>0.306306</td>\n",
       "      <td>0.693694</td>\n",
       "    </tr>\n",
       "    <tr>\n",
       "      <th>2</th>\n",
       "      <td>0.859424</td>\n",
       "      <td>0.140576</td>\n",
       "    </tr>\n",
       "    <tr>\n",
       "      <th>3</th>\n",
       "      <td>0.855572</td>\n",
       "      <td>0.144428</td>\n",
       "    </tr>\n",
       "    <tr>\n",
       "      <th>4</th>\n",
       "      <td>0.266125</td>\n",
       "      <td>0.733875</td>\n",
       "    </tr>\n",
       "    <tr>\n",
       "      <th>5</th>\n",
       "      <td>0.248499</td>\n",
       "      <td>0.751501</td>\n",
       "    </tr>\n",
       "    <tr>\n",
       "      <th>6</th>\n",
       "      <td>0.730427</td>\n",
       "      <td>0.269573</td>\n",
       "    </tr>\n",
       "    <tr>\n",
       "      <th>7</th>\n",
       "      <td>0.225295</td>\n",
       "      <td>0.774705</td>\n",
       "    </tr>\n",
       "    <tr>\n",
       "      <th>8</th>\n",
       "      <td>0.171936</td>\n",
       "      <td>0.828064</td>\n",
       "    </tr>\n",
       "  </tbody>\n",
       "</table>\n",
       "</div>"
      ],
      "text/plain": [
       "      rainy     sunny\n",
       "0  0.399892  0.600108\n",
       "1  0.306306  0.693694\n",
       "2  0.859424  0.140576\n",
       "3  0.855572  0.144428\n",
       "4  0.266125  0.733875\n",
       "5  0.248499  0.751501\n",
       "6  0.730427  0.269573\n",
       "7  0.225295  0.774705\n",
       "8  0.171936  0.828064"
      ]
     },
     "execution_count": 17,
     "metadata": {},
     "output_type": "execute_result"
    }
   ],
   "source": [
    "Most_likely_Weather"
   ]
  },
  {
   "cell_type": "code",
   "execution_count": null,
   "id": "250569d8",
   "metadata": {},
   "outputs": [],
   "source": []
  }
 ],
 "metadata": {
  "kernelspec": {
   "display_name": "Python 3 (ipykernel)",
   "language": "python",
   "name": "python3"
  },
  "language_info": {
   "codemirror_mode": {
    "name": "ipython",
    "version": 3
   },
   "file_extension": ".py",
   "mimetype": "text/x-python",
   "name": "python",
   "nbconvert_exporter": "python",
   "pygments_lexer": "ipython3",
   "version": "3.9.13"
  }
 },
 "nbformat": 4,
 "nbformat_minor": 5
}
