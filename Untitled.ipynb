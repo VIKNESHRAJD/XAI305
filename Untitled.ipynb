{
 "cells": [
  {
   "cell_type": "code",
   "execution_count": 1,
   "id": "09b3d30c",
   "metadata": {},
   "outputs": [],
   "source": [
    "import heapq"
   ]
  },
  {
   "cell_type": "code",
   "execution_count": 2,
   "id": "d805a7e4",
   "metadata": {},
   "outputs": [
    {
     "name": "stdout",
     "output_type": "stream",
     "text": [
      "Goal reached! Path cost: 5\n"
     ]
    }
   ],
   "source": [
    "\n",
    "\n",
    "# Define a graph as an adjacency list with weights\n",
    "graph = {\n",
    "    'A': [('B', 4), ('C', 2)],\n",
    "    'B': [('C', 5), ('D', 10)],\n",
    "    'C': [('D', 3)],\n",
    "    'D': [],\n",
    "}\n",
    "\n",
    "def uniform_cost_search(graph, start, goal):\n",
    "    frontier = [(0, start)]  # Priority queue with (cost, node)\n",
    "    explored = set()\n",
    "\n",
    "    while frontier:\n",
    "        cost, current_node = heapq.heappop(frontier)\n",
    "\n",
    "        if current_node in explored:\n",
    "            continue\n",
    "\n",
    "        explored.add(current_node)\n",
    "\n",
    "        if current_node == goal:\n",
    "            print(\"Goal reached! Path cost:\", cost)\n",
    "            return\n",
    "\n",
    "        for neighbor, neighbor_cost in graph[current_node]:\n",
    "            if neighbor not in explored:\n",
    "                heapq.heappush(frontier, (cost + neighbor_cost, neighbor))\n",
    "\n",
    "    print(\"Goal not reachable\")\n",
    "\n",
    "# Usage\n",
    "start_node = 'A'\n",
    "goal_node = 'D'\n",
    "uniform_cost_search(graph, start_node, goal_node)"
   ]
  }
 ],
 "metadata": {
  "kernelspec": {
   "display_name": "Python 3 (ipykernel)",
   "language": "python",
   "name": "python3"
  },
  "language_info": {
   "codemirror_mode": {
    "name": "ipython",
    "version": 3
   },
   "file_extension": ".py",
   "mimetype": "text/x-python",
   "name": "python",
   "nbconvert_exporter": "python",
   "pygments_lexer": "ipython3",
   "version": "3.9.13"
  }
 },
 "nbformat": 4,
 "nbformat_minor": 5
}
