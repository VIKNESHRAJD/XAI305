{
 "cells": [
  {
   "cell_type": "markdown",
   "id": "c7903d7b",
   "metadata": {},
   "source": [
    "# BEST FIRST SEARCH"
   ]
  },
  {
   "cell_type": "code",
   "execution_count": 8,
   "id": "85fa2eac",
   "metadata": {},
   "outputs": [],
   "source": [
    "from queue import PriorityQueue \n",
    "v = 14\n",
    "graph =[[] for  i in range (v)]"
   ]
  },
  {
   "cell_type": "code",
   "execution_count": null,
   "id": "15d203ea",
   "metadata": {},
   "outputs": [],
   "source": [
    "#Function implementing Best First Search"
   ]
  },
  {
   "cell_type": "code",
   "execution_count": 10,
   "id": "33ac1ec0",
   "metadata": {},
   "outputs": [
    {
     "ename": "SyntaxError",
     "evalue": "invalid syntax (3916816291.py, line 17)",
     "output_type": "error",
     "traceback": [
      "\u001b[1;36m  File \u001b[1;32m\"C:\\Users\\Admin\\AppData\\Local\\Temp\\ipykernel_19928\\3916816291.py\"\u001b[1;36m, line \u001b[1;32m17\u001b[0m\n\u001b[1;33m    print()\u001b[0m\n\u001b[1;37m    ^\u001b[0m\n\u001b[1;31mSyntaxError\u001b[0m\u001b[1;31m:\u001b[0m invalid syntax\n"
     ]
    }
   ],
   "source": [
    "def best_first_search(actual_src,target, n):\n",
    "    visited = [False] * n\n",
    "    pq = PriorityQueue()\n",
    "    pq.put((0, actual_src))\n",
    "    visited[actual_src] = True\n",
    "    \n",
    "while pq.empty() ==False:\n",
    "        u = pq.get()[1]\n",
    "        \n",
    "        print(u, end=\" \")\n",
    "        if u == target:\n",
    "            break\n",
    "for v,c in graph[u]:\n",
    "    if visited[v]==False:\n",
    "        visited[v] = True\n",
    "        pq.put((c,v)\n",
    "print()\n",
    "\n",
    "def addege(x,y,cost):\n",
    "    graph[x].append((y,cost))\n",
    "    graph[y].append((x,cost))\n",
    "    \n",
    "addaedge(0,1,3)\n",
    "addaedge(0,2,6)\n",
    "addaedge(0,3,5)\n",
    "addaedge(1,4,9)\n",
    "addaedge(1,5,8)\n",
    "addaedge(2,6,12)\n",
    "addaedge(2,7,14)\n",
    "addaedge(3,8,7)\n",
    "addaedge(8,9,5)\n",
    "addaedge(8,10,6)\n",
    "addaedge(9,11,1)\n",
    "addaedge(9,12,10)\n",
    "addaedge(9,13,2)\n",
    "\n"
   ]
  },
  {
   "cell_type": "code",
   "execution_count": null,
   "id": "fd117624",
   "metadata": {},
   "outputs": [],
   "source": []
  }
 ],
 "metadata": {
  "kernelspec": {
   "display_name": "Python 3 (ipykernel)",
   "language": "python",
   "name": "python3"
  },
  "language_info": {
   "codemirror_mode": {
    "name": "ipython",
    "version": 3
   },
   "file_extension": ".py",
   "mimetype": "text/x-python",
   "name": "python",
   "nbconvert_exporter": "python",
   "pygments_lexer": "ipython3",
   "version": "3.9.13"
  }
 },
 "nbformat": 4,
 "nbformat_minor": 5
}
