{
 "cells": [
  {
   "cell_type": "markdown",
   "id": "233c7e98",
   "metadata": {},
   "source": [
    "# BEST FIRST SEARCH"
   ]
  },
  {
   "cell_type": "code",
   "execution_count": 2,
   "id": "a0dd0001",
   "metadata": {},
   "outputs": [],
   "source": [
    "from queue import PriorityQueue \n",
    "v = 14\n",
    "graph =[[] for  i in range (v)]"
   ]
  },
  {
   "cell_type": "code",
   "execution_count": 3,
   "id": "bfb65265",
   "metadata": {},
   "outputs": [
    {
     "name": "stdout",
     "output_type": "stream",
     "text": [
      "\n",
      "0 1 3 2 8 9 11 13 10 5 4 12 6 7 "
     ]
    }
   ],
   "source": [
    "def best_first_search(actual_src, target, n):\n",
    "    visited = [False] * n\n",
    "    pq = PriorityQueue()\n",
    "    pq.put((0, actual_src))\n",
    "    visited[actual_src] = True\n",
    "    \n",
    "    while pq.empty() == False:\n",
    "        u = pq.get()[1]\n",
    "        print(u, end=\" \")\n",
    "        if u == target:\n",
    "            break\n",
    "        for v, c in graph[u]:\n",
    "            if  visited[v] == False:\n",
    "                visited[v] = True\n",
    "                pq.put((c, v))\n",
    "\n",
    "print()\n",
    "\n",
    "def addedge(x, y, cost):\n",
    "    graph[x].append((y, cost))\n",
    "    graph[y].append((x, cost))\n",
    "    \n",
    "addedge(0, 1, 3)\n",
    "addedge(0, 2, 6)\n",
    "addedge(0, 3, 5)\n",
    "addedge(1, 4, 9)\n",
    "addedge(1, 5, 8)\n",
    "addedge(2, 6, 12)\n",
    "addedge(2, 7, 14)\n",
    "addedge(3, 8, 7)\n",
    "addedge(8, 9, 5)\n",
    "addedge(8, 10, 6)\n",
    "addedge(9, 11, 1)\n",
    "addedge(9, 12, 10)\n",
    "addedge(9, 13, 2)\n",
    "\n",
    "source = 0\n",
    "target = 14\n",
    "best_first_search(source, target, v)"
   ]
  },
  {
   "cell_type": "code",
   "execution_count": 5,
   "id": "9d42e04e",
   "metadata": {},
   "outputs": [],
   "source": [
    "from queue import PriorityQueue \n",
    "v = 12\n",
    "graph =[[] for  i in range (v)]"
   ]
  },
  {
   "cell_type": "code",
   "execution_count": 9,
   "id": "e4f2563c",
   "metadata": {},
   "outputs": [
    {
     "name": "stdout",
     "output_type": "stream",
     "text": [
      "\n",
      "0 2 6 7 10 9 "
     ]
    }
   ],
   "source": [
    "def best_first_search(actual_src, target, n):\n",
    "    visited = [False] * n\n",
    "    pq = PriorityQueue()\n",
    "    pq.put((0, actual_src))\n",
    "    visited[actual_src] = True\n",
    "    \n",
    "    while pq.empty() == False:\n",
    "        u = pq.get()[1]\n",
    "        print(u, end=\" \")\n",
    "        if u == target:\n",
    "            break\n",
    "        for v, c in graph[u]:\n",
    "            if  visited[v] == False:\n",
    "                visited[v] = True\n",
    "                pq.put((c, v))\n",
    "\n",
    "print()\n",
    "\n",
    "def addedge(x, y, cost):\n",
    "    graph[x].append((y, cost))\n",
    "    graph[y].append((x, cost))\n",
    "    \n",
    "addedge(0, 1, 3)\n",
    "addedge(0, 2, 2)\n",
    "addedge(0, 3, 8)\n",
    "addedge(1, 4, 4)\n",
    "addedge(1, 5, 8)\n",
    "addedge(2, 6, 1)\n",
    "addedge(2, 7, 2)\n",
    "addedge(3, 8, 6)\n",
    "addedge(6, 9, 2)\n",
    "addedge(7, 10, 0)\n",
    "addedge(7, 11, 9)\n",
    "\n",
    "source = 0\n",
    "target = 9\n",
    "best_first_search(source, target, v)"
   ]
  }
 ],
 "metadata": {
  "kernelspec": {
   "display_name": "Python 3 (ipykernel)",
   "language": "python",
   "name": "python3"
  },
  "language_info": {
   "codemirror_mode": {
    "name": "ipython",
    "version": 3
   },
   "file_extension": ".py",
   "mimetype": "text/x-python",
   "name": "python",
   "nbconvert_exporter": "python",
   "pygments_lexer": "ipython3",
   "version": "3.9.13"
  }
 },
 "nbformat": 4,
 "nbformat_minor": 5
}
