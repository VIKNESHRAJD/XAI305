{
 "cells": [
  {
   "cell_type": "markdown",
   "id": "b3c248aa",
   "metadata": {},
   "source": [
    "# Find the Best Possible Route among these cities to travel\n",
    "\n",
    "MAS - SBC = 347\n",
    "\n",
    "MAS - NDL = 2196\n",
    "\n",
    "MAS - KOL = 1667\n",
    "\n",
    "SBC - NDL = 2164\n",
    "\n",
    "SBC - KOL = 1875\n",
    "\n",
    "NDL - KOL = 1559\n",
    "\n",
    "ALL VALUES IN Kms"
   ]
  },
  {
   "cell_type": "markdown",
   "id": "a95b54d6",
   "metadata": {},
   "source": [
    "# Importing Random Library"
   ]
  },
  {
   "cell_type": "code",
   "execution_count": 1,
   "id": "bdf95880",
   "metadata": {
    "collapsed": true
   },
   "outputs": [
    {
     "name": "stdout",
     "output_type": "stream",
     "text": [
      "Note: you may need to restart the kernel to use updated packages.\n",
      "Defaulting to user installation because normal site-packages is not writeable\n"
     ]
    },
    {
     "name": "stderr",
     "output_type": "stream",
     "text": [
      "ERROR: Could not find a version that satisfies the requirement random (from versions: none)\n",
      "ERROR: No matching distribution found for random\n"
     ]
    }
   ],
   "source": [
    "pip install random"
   ]
  },
  {
   "cell_type": "code",
   "execution_count": 2,
   "id": "e73cd3c2",
   "metadata": {},
   "outputs": [],
   "source": [
    "import random"
   ]
  },
  {
   "cell_type": "markdown",
   "id": "21da7cf4",
   "metadata": {},
   "source": [
    "# Travelling Sales Man City Distances"
   ]
  },
  {
   "cell_type": "code",
   "execution_count": 3,
   "id": "9b5e2ab5",
   "metadata": {},
   "outputs": [],
   "source": [
    "tsp = [[0, 347,2196, 1667],\n",
    "       [347, 0, 2164, 1875],\n",
    "       [2196, 2164, 0, 1559],\n",
    "       [1667, 1875, 1559, 0]]"
   ]
  },
  {
   "cell_type": "markdown",
   "id": "f105a91c",
   "metadata": {},
   "source": [
    "# Random Solution Generator"
   ]
  },
  {
   "cell_type": "code",
   "execution_count": 8,
   "id": "27870401",
   "metadata": {},
   "outputs": [],
   "source": [
    "def randomSolution(tsp):\n",
    "    cities = list(range(len(tsp)))\n",
    "    solution = []\n",
    "    \n",
    "    for i in range(len(tsp)):\n",
    "        randomCity = cities[random.randint(0, len(cities) - 1)]\n",
    "        solution.append(randomCity)\n",
    "        cities.remove(randomCity)\n",
    "        \n",
    "    return solution    "
   ]
  },
  {
   "cell_type": "code",
   "execution_count": 10,
   "id": "e32db83d",
   "metadata": {},
   "outputs": [],
   "source": [
    "def routeLength(tsp, solution):\n",
    "    routeLength = 0\n",
    "    \n",
    "    for i in range(len(solution)):\n",
    "        routeLength += tsp[solution[i - 1]][solution[i]]\n",
    "                           \n",
    "    return routeLength     "
   ]
  },
  {
   "cell_type": "code",
   "execution_count": 16,
   "id": "4c3b05b6",
   "metadata": {},
   "outputs": [],
   "source": [
    "def getNeighbours(solution):\n",
    "    neighbours = []\n",
    "    \n",
    "    for i in range(len(solution)):\n",
    "        for j in range(i+1, len(solution)):\n",
    "            neighbour = solution.copy()\n",
    "            neighbour[i] = solution[j]\n",
    "            neighbour[j] = solution[i]\n",
    "            neighbours.append(neighbour)\n",
    "            \n",
    "        return neighbours    "
   ]
  },
  {
   "cell_type": "code",
   "execution_count": 54,
   "id": "0dabb9a9",
   "metadata": {},
   "outputs": [],
   "source": [
    "def getBestNeighbour(tsp, neighbours):\n",
    "    bestRouteLength = routeLength(tsp, neighbours[0])\n",
    "    bestNeighbour = neighbours[0]\n",
    "    for neighbour in neighbours:\n",
    "        currentRouteLength = routeLength(tsp, neighbour)\n",
    "        if currentRouteLength < bestRouteLength:\n",
    "            bestRouteLength =  currentRouteLength \n",
    "            bestNeighbour = neighbour\n",
    "            \n",
    "    return bestNeighbour , bestRouteLength     "
   ]
  },
  {
   "cell_type": "code",
   "execution_count": 58,
   "id": "92d01de8",
   "metadata": {},
   "outputs": [],
   "source": [
    "def hillClimbing(tsp):\n",
    "    currentSolution = randomSolution(tsp)\n",
    "    currentRouteLength = routeLength(tsp , currentSolution)\n",
    "    neighbours = getNeighbours(currentSolution)\n",
    "    bestNeighbour, bestNeighbourRouteLength  = getBestNeighbour(tsp, neighbours)\n",
    "    \n",
    "    while bestNeighbourRouteLength  < currentRouteLength:\n",
    "        currentSolution = bestNeighbour\n",
    "        currentRouteLength = bestNeighbourRouteLength\n",
    "        neighbours = getNeighbours(currentSolution)\n",
    "        bestNeighbour, bestNeighbourRouteLength   = getBestNeighbour(tsp, neighbours)\n",
    "        \n",
    "    return currentSolution, currentRouteLength"
   ]
  },
  {
   "cell_type": "code",
   "execution_count": 59,
   "id": "d3587f2c",
   "metadata": {
    "scrolled": true
   },
   "outputs": [
    {
     "name": "stdout",
     "output_type": "stream",
     "text": [
      "([1, 0, 3, 2], 5737)\n"
     ]
    }
   ],
   "source": [
    "print(hillClimbing(tsp))"
   ]
  },
  {
   "cell_type": "code",
   "execution_count": null,
   "id": "d3b7ebe7",
   "metadata": {},
   "outputs": [],
   "source": []
  }
 ],
 "metadata": {
  "kernelspec": {
   "display_name": "Python 3 (ipykernel)",
   "language": "python",
   "name": "python3"
  },
  "language_info": {
   "codemirror_mode": {
    "name": "ipython",
    "version": 3
   },
   "file_extension": ".py",
   "mimetype": "text/x-python",
   "name": "python",
   "nbconvert_exporter": "python",
   "pygments_lexer": "ipython3",
   "version": "3.9.13"
  }
 },
 "nbformat": 4,
 "nbformat_minor": 5
}
