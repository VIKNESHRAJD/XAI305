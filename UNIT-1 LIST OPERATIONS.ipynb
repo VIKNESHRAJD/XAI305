{
 "cells": [
  {
   "cell_type": "markdown",
   "id": "469502e3",
   "metadata": {},
   "source": [
    "# VARIABLE DECLARATION\n"
   ]
  },
  {
   "cell_type": "code",
   "execution_count": 1,
   "id": "9bcac2b2",
   "metadata": {},
   "outputs": [
    {
     "name": "stdout",
     "output_type": "stream",
     "text": [
      "10\n"
     ]
    }
   ],
   "source": [
    "HOLA=10\n",
    "print(HOLA)"
   ]
  },
  {
   "cell_type": "code",
   "execution_count": 2,
   "id": "11869803",
   "metadata": {},
   "outputs": [
    {
     "name": "stdout",
     "output_type": "stream",
     "text": [
      "bsc ai\n"
     ]
    }
   ],
   "source": [
    "Class = 'bsc ai'\n",
    "print (Class)"
   ]
  },
  {
   "cell_type": "code",
   "execution_count": 8,
   "id": "e7400b11",
   "metadata": {
    "scrolled": false
   },
   "outputs": [
    {
     "ename": "SyntaxError",
     "evalue": "invalid syntax (4063964891.py, line 1)",
     "output_type": "error",
     "traceback": [
      "\u001b[1;36m  File \u001b[1;32m\"C:\\Users\\Admin\\AppData\\Local\\Temp\\ipykernel_6736\\4063964891.py\"\u001b[1;36m, line \u001b[1;32m1\u001b[0m\n\u001b[1;33m    if = 25\u001b[0m\n\u001b[1;37m       ^\u001b[0m\n\u001b[1;31mSyntaxError\u001b[0m\u001b[1;31m:\u001b[0m invalid syntax\n"
     ]
    }
   ],
   "source": [
    "if = 25\n",
    "print (if)"
   ]
  },
  {
   "cell_type": "code",
   "execution_count": 4,
   "id": "c3b9b4b4",
   "metadata": {
    "scrolled": true
   },
   "outputs": [
    {
     "name": "stdout",
     "output_type": "stream",
     "text": [
      "122.65\n"
     ]
    }
   ],
   "source": [
    "type = 122.65\n",
    "print (type)"
   ]
  },
  {
   "cell_type": "code",
   "execution_count": 5,
   "id": "724d38b3",
   "metadata": {},
   "outputs": [
    {
     "name": "stdout",
     "output_type": "stream",
     "text": [
      "Enter the first numer: 100000\n",
      "Enter the second numer: 88888\n",
      "100000 88888\n"
     ]
    }
   ],
   "source": [
    "num1 = input(\"Enter the first numer: \")\n",
    "num2 = input(\"Enter the second numer: \")\n",
    "print (num1,num2)"
   ]
  },
  {
   "cell_type": "code",
   "execution_count": 6,
   "id": "bd2a449b",
   "metadata": {},
   "outputs": [
    {
     "data": {
      "text/plain": [
       "['leo,njr,lewan']"
      ]
     },
     "execution_count": 6,
     "metadata": {},
     "output_type": "execute_result"
    }
   ],
   "source": [
    "fcb = [\"leo,njr,lewan\"]\n",
    "fcb"
   ]
  },
  {
   "cell_type": "code",
   "execution_count": 7,
   "id": "a0e53c70",
   "metadata": {},
   "outputs": [
    {
     "data": {
      "text/plain": [
       "{'koenigseggs', 'lambo', 'volvo'}"
      ]
     },
     "execution_count": 7,
     "metadata": {},
     "output_type": "execute_result"
    }
   ],
   "source": [
    "cars = {\"lambo\" , \"koenigseggs\", \"volvo\" }\n",
    "cars"
   ]
  },
  {
   "cell_type": "code",
   "execution_count": 8,
   "id": "7cec4de7",
   "metadata": {},
   "outputs": [
    {
     "data": {
      "text/plain": [
       "3"
      ]
     },
     "execution_count": 8,
     "metadata": {},
     "output_type": "execute_result"
    }
   ],
   "source": [
    "len(cars)"
   ]
  },
  {
   "cell_type": "code",
   "execution_count": 9,
   "id": "5da17016",
   "metadata": {},
   "outputs": [
    {
     "ename": "TypeError",
     "evalue": "'float' object is not callable",
     "output_type": "error",
     "traceback": [
      "\u001b[1;31m---------------------------------------------------------------------------\u001b[0m",
      "\u001b[1;31mTypeError\u001b[0m                                 Traceback (most recent call last)",
      "\u001b[1;32m~\\AppData\\Local\\Temp\\ipykernel_9812\\3644522492.py\u001b[0m in \u001b[0;36m<module>\u001b[1;34m\u001b[0m\n\u001b[0;32m      1\u001b[0m \u001b[0ma\u001b[0m\u001b[1;33m=\u001b[0m \u001b[1;36m12j\u001b[0m\u001b[1;33m+\u001b[0m\u001b[1;36m1\u001b[0m\u001b[1;33m\u001b[0m\u001b[1;33m\u001b[0m\u001b[0m\n\u001b[1;32m----> 2\u001b[1;33m \u001b[0mtype\u001b[0m\u001b[1;33m(\u001b[0m\u001b[0ma\u001b[0m\u001b[1;33m)\u001b[0m\u001b[1;33m\u001b[0m\u001b[1;33m\u001b[0m\u001b[0m\n\u001b[0m",
      "\u001b[1;31mTypeError\u001b[0m: 'float' object is not callable"
     ]
    }
   ],
   "source": [
    "a= 12j+1\n",
    "type(a)"
   ]
  },
  {
   "cell_type": "code",
   "execution_count": 10,
   "id": "9387fc03",
   "metadata": {},
   "outputs": [
    {
     "ename": "TypeError",
     "evalue": "'float' object is not callable",
     "output_type": "error",
     "traceback": [
      "\u001b[1;31m---------------------------------------------------------------------------\u001b[0m",
      "\u001b[1;31mTypeError\u001b[0m                                 Traceback (most recent call last)",
      "\u001b[1;32m~\\AppData\\Local\\Temp\\ipykernel_9812\\3497378934.py\u001b[0m in \u001b[0;36m<module>\u001b[1;34m\u001b[0m\n\u001b[0;32m      1\u001b[0m \u001b[0mb\u001b[0m\u001b[1;33m=\u001b[0m\u001b[1;36m15\u001b[0m\u001b[1;33m\u001b[0m\u001b[1;33m\u001b[0m\u001b[0m\n\u001b[1;32m----> 2\u001b[1;33m \u001b[0mtype\u001b[0m\u001b[1;33m(\u001b[0m\u001b[0mb\u001b[0m\u001b[1;33m)\u001b[0m\u001b[1;33m\u001b[0m\u001b[1;33m\u001b[0m\u001b[0m\n\u001b[0m",
      "\u001b[1;31mTypeError\u001b[0m: 'float' object is not callable"
     ]
    }
   ],
   "source": [
    "b=15\n",
    "type(b)"
   ]
  },
  {
   "cell_type": "code",
   "execution_count": 11,
   "id": "a04a1bcd",
   "metadata": {},
   "outputs": [
    {
     "ename": "TypeError",
     "evalue": "'float' object is not callable",
     "output_type": "error",
     "traceback": [
      "\u001b[1;31m---------------------------------------------------------------------------\u001b[0m",
      "\u001b[1;31mTypeError\u001b[0m                                 Traceback (most recent call last)",
      "\u001b[1;32m~\\AppData\\Local\\Temp\\ipykernel_9812\\3464191107.py\u001b[0m in \u001b[0;36m<module>\u001b[1;34m\u001b[0m\n\u001b[0;32m      1\u001b[0m \u001b[0mfcb\u001b[0m\u001b[1;33m=\u001b[0m \u001b[1;34m'FCBARCELONA'\u001b[0m\u001b[1;33m\u001b[0m\u001b[1;33m\u001b[0m\u001b[0m\n\u001b[1;32m----> 2\u001b[1;33m \u001b[0mtype\u001b[0m\u001b[1;33m(\u001b[0m\u001b[0mfcb\u001b[0m\u001b[1;33m)\u001b[0m\u001b[1;33m\u001b[0m\u001b[1;33m\u001b[0m\u001b[0m\n\u001b[0m",
      "\u001b[1;31mTypeError\u001b[0m: 'float' object is not callable"
     ]
    }
   ],
   "source": [
    "fcb= 'FCBARCELONA'\n",
    "type(fcb)"
   ]
  },
  {
   "cell_type": "code",
   "execution_count": 12,
   "id": "2fd741fa",
   "metadata": {},
   "outputs": [
    {
     "ename": "TypeError",
     "evalue": "'float' object is not callable",
     "output_type": "error",
     "traceback": [
      "\u001b[1;31m---------------------------------------------------------------------------\u001b[0m",
      "\u001b[1;31mTypeError\u001b[0m                                 Traceback (most recent call last)",
      "\u001b[1;32m~\\AppData\\Local\\Temp\\ipykernel_9812\\1371383199.py\u001b[0m in \u001b[0;36m<module>\u001b[1;34m\u001b[0m\n\u001b[0;32m      1\u001b[0m \u001b[0mc\u001b[0m\u001b[1;33m=\u001b[0m\u001b[1;36m12.4\u001b[0m\u001b[1;33m\u001b[0m\u001b[1;33m\u001b[0m\u001b[0m\n\u001b[1;32m----> 2\u001b[1;33m \u001b[0mtype\u001b[0m\u001b[1;33m(\u001b[0m\u001b[0mc\u001b[0m\u001b[1;33m)\u001b[0m\u001b[1;33m\u001b[0m\u001b[1;33m\u001b[0m\u001b[0m\n\u001b[0m",
      "\u001b[1;31mTypeError\u001b[0m: 'float' object is not callable"
     ]
    }
   ],
   "source": [
    "c=12.4\n",
    "type(c)"
   ]
  },
  {
   "cell_type": "code",
   "execution_count": 13,
   "id": "51908e2f",
   "metadata": {
    "scrolled": true
   },
   "outputs": [
    {
     "ename": "TypeError",
     "evalue": "'float' object is not callable",
     "output_type": "error",
     "traceback": [
      "\u001b[1;31m---------------------------------------------------------------------------\u001b[0m",
      "\u001b[1;31mTypeError\u001b[0m                                 Traceback (most recent call last)",
      "\u001b[1;32m~\\AppData\\Local\\Temp\\ipykernel_9812\\1330072034.py\u001b[0m in \u001b[0;36m<module>\u001b[1;34m\u001b[0m\n\u001b[0;32m      1\u001b[0m \u001b[0md\u001b[0m\u001b[1;33m=\u001b[0m\u001b[1;36m12.5\u001b[0m\u001b[1;33m,\u001b[0m\u001b[1;36m109\u001b[0m\u001b[1;33m,\u001b[0m\u001b[1;34m'FCB'\u001b[0m\u001b[1;33m,\u001b[0m\u001b[1;36m12j\u001b[0m\u001b[1;33m+\u001b[0m\u001b[1;36m1\u001b[0m\u001b[1;33m\u001b[0m\u001b[1;33m\u001b[0m\u001b[0m\n\u001b[1;32m----> 2\u001b[1;33m \u001b[0mtype\u001b[0m\u001b[1;33m(\u001b[0m\u001b[0md\u001b[0m\u001b[1;33m)\u001b[0m\u001b[1;33m\u001b[0m\u001b[1;33m\u001b[0m\u001b[0m\n\u001b[0m",
      "\u001b[1;31mTypeError\u001b[0m: 'float' object is not callable"
     ]
    }
   ],
   "source": [
    "d=12.5,109,'FCB',12j+1\n",
    "type(d)"
   ]
  },
  {
   "cell_type": "code",
   "execution_count": 14,
   "id": "7a42b6b8",
   "metadata": {},
   "outputs": [
    {
     "ename": "TypeError",
     "evalue": "'float' object is not callable",
     "output_type": "error",
     "traceback": [
      "\u001b[1;31m---------------------------------------------------------------------------\u001b[0m",
      "\u001b[1;31mTypeError\u001b[0m                                 Traceback (most recent call last)",
      "\u001b[1;32m~\\AppData\\Local\\Temp\\ipykernel_9812\\2296725426.py\u001b[0m in \u001b[0;36m<module>\u001b[1;34m\u001b[0m\n\u001b[0;32m      1\u001b[0m \u001b[0mf\u001b[0m\u001b[1;33m=\u001b[0m\u001b[1;33m[\u001b[0m\u001b[1;36m12\u001b[0m\u001b[1;33m,\u001b[0m\u001b[1;36m44\u001b[0m\u001b[1;33m,\u001b[0m\u001b[1;36m474\u001b[0m\u001b[1;33m,\u001b[0m\u001b[1;36m785\u001b[0m\u001b[1;33m]\u001b[0m\u001b[1;33m\u001b[0m\u001b[1;33m\u001b[0m\u001b[0m\n\u001b[1;32m----> 2\u001b[1;33m \u001b[0mtype\u001b[0m\u001b[1;33m(\u001b[0m\u001b[0mf\u001b[0m\u001b[1;33m)\u001b[0m\u001b[1;33m\u001b[0m\u001b[1;33m\u001b[0m\u001b[0m\n\u001b[0m",
      "\u001b[1;31mTypeError\u001b[0m: 'float' object is not callable"
     ]
    }
   ],
   "source": [
    "f=[12,44,474,785]\n",
    "type(f)"
   ]
  },
  {
   "cell_type": "code",
   "execution_count": 15,
   "id": "d1777bbe",
   "metadata": {},
   "outputs": [
    {
     "ename": "TypeError",
     "evalue": "'float' object is not callable",
     "output_type": "error",
     "traceback": [
      "\u001b[1;31m---------------------------------------------------------------------------\u001b[0m",
      "\u001b[1;31mTypeError\u001b[0m                                 Traceback (most recent call last)",
      "\u001b[1;32m~\\AppData\\Local\\Temp\\ipykernel_9812\\1056241569.py\u001b[0m in \u001b[0;36m<module>\u001b[1;34m\u001b[0m\n\u001b[0;32m      1\u001b[0m \u001b[0me\u001b[0m\u001b[1;33m=\u001b[0m\u001b[1;33m{\u001b[0m\u001b[1;34m'leo'\u001b[0m\u001b[1;33m,\u001b[0m \u001b[1;34m'messi'\u001b[0m\u001b[1;33m,\u001b[0m \u001b[1;34m'gavi'\u001b[0m\u001b[1;33m,\u001b[0m\u001b[1;36m12.5\u001b[0m\u001b[1;33m,\u001b[0m \u001b[1;36m10\u001b[0m\u001b[1;33m}\u001b[0m\u001b[1;33m\u001b[0m\u001b[1;33m\u001b[0m\u001b[0m\n\u001b[1;32m----> 2\u001b[1;33m \u001b[0mtype\u001b[0m\u001b[1;33m(\u001b[0m\u001b[0me\u001b[0m\u001b[1;33m)\u001b[0m\u001b[1;33m\u001b[0m\u001b[1;33m\u001b[0m\u001b[0m\n\u001b[0m",
      "\u001b[1;31mTypeError\u001b[0m: 'float' object is not callable"
     ]
    }
   ],
   "source": [
    "e={'leo', 'messi', 'gavi',12.5, 10}\n",
    "type(e)"
   ]
  },
  {
   "cell_type": "code",
   "execution_count": 16,
   "id": "bed53f50",
   "metadata": {},
   "outputs": [],
   "source": [
    "clubs=['LIVERPOOLFC','FCB','villarreal','BVB']\n"
   ]
  },
  {
   "cell_type": "code",
   "execution_count": 17,
   "id": "6219fda6",
   "metadata": {},
   "outputs": [
    {
     "name": "stdout",
     "output_type": "stream",
     "text": [
      "['LIVERPOOLFC', 'FCB', 'villarreal', 'BVB', 'SPURS']\n"
     ]
    }
   ],
   "source": [
    "clubs.append('SPURS')\n",
    "print(clubs)"
   ]
  },
  {
   "cell_type": "code",
   "execution_count": 18,
   "id": "a6b028fa",
   "metadata": {},
   "outputs": [
    {
     "data": {
      "text/plain": [
       "5"
      ]
     },
     "execution_count": 18,
     "metadata": {},
     "output_type": "execute_result"
    }
   ],
   "source": [
    "len(clubs)"
   ]
  },
  {
   "cell_type": "code",
   "execution_count": 19,
   "id": "fdbe8337",
   "metadata": {},
   "outputs": [
    {
     "data": {
      "text/plain": [
       "['LIVERPOOLFC', 'villarreal', 'SPURS']"
      ]
     },
     "execution_count": 19,
     "metadata": {},
     "output_type": "execute_result"
    }
   ],
   "source": [
    "clubs[::2]"
   ]
  },
  {
   "cell_type": "code",
   "execution_count": 20,
   "id": "61461562",
   "metadata": {},
   "outputs": [
    {
     "ename": "TypeError",
     "evalue": "'float' object is not callable",
     "output_type": "error",
     "traceback": [
      "\u001b[1;31m---------------------------------------------------------------------------\u001b[0m",
      "\u001b[1;31mTypeError\u001b[0m                                 Traceback (most recent call last)",
      "\u001b[1;32m~\\AppData\\Local\\Temp\\ipykernel_9812\\148755471.py\u001b[0m in \u001b[0;36m<module>\u001b[1;34m\u001b[0m\n\u001b[0;32m      1\u001b[0m \u001b[0mPLAYER\u001b[0m\u001b[1;33m=\u001b[0m\u001b[1;33m(\u001b[0m\u001b[1;36m12\u001b[0m\u001b[1;33m,\u001b[0m\u001b[1;36m10\u001b[0m\u001b[1;33m,\u001b[0m\u001b[1;36m20\u001b[0m\u001b[1;33m,\u001b[0m\u001b[1;36m30\u001b[0m\u001b[1;33m,\u001b[0m\u001b[1;36m40\u001b[0m\u001b[1;33m,\u001b[0m\u001b[1;36m50\u001b[0m\u001b[1;33m,\u001b[0m\u001b[1;36m60\u001b[0m\u001b[1;33m)\u001b[0m\u001b[1;33m\u001b[0m\u001b[1;33m\u001b[0m\u001b[0m\n\u001b[1;32m----> 2\u001b[1;33m \u001b[0mtype\u001b[0m\u001b[1;33m(\u001b[0m\u001b[0mPLAYER\u001b[0m\u001b[1;33m)\u001b[0m\u001b[1;33m\u001b[0m\u001b[1;33m\u001b[0m\u001b[0m\n\u001b[0m",
      "\u001b[1;31mTypeError\u001b[0m: 'float' object is not callable"
     ]
    }
   ],
   "source": [
    "PLAYER=(12,10,20,30,40,50,60)\n",
    "type(PLAYER)"
   ]
  },
  {
   "cell_type": "code",
   "execution_count": 21,
   "id": "fa838ba0",
   "metadata": {},
   "outputs": [
    {
     "ename": "AttributeError",
     "evalue": "'tuple' object has no attribute 'append'",
     "output_type": "error",
     "traceback": [
      "\u001b[1;31m---------------------------------------------------------------------------\u001b[0m",
      "\u001b[1;31mAttributeError\u001b[0m                            Traceback (most recent call last)",
      "\u001b[1;32m~\\AppData\\Local\\Temp\\ipykernel_9812\\149188842.py\u001b[0m in \u001b[0;36m<module>\u001b[1;34m\u001b[0m\n\u001b[1;32m----> 1\u001b[1;33m \u001b[0mPLAYER\u001b[0m\u001b[1;33m.\u001b[0m\u001b[0mappend\u001b[0m\u001b[1;33m(\u001b[0m\u001b[1;34m'SPURS'\u001b[0m\u001b[1;33m)\u001b[0m\u001b[1;33m\u001b[0m\u001b[1;33m\u001b[0m\u001b[0m\n\u001b[0m",
      "\u001b[1;31mAttributeError\u001b[0m: 'tuple' object has no attribute 'append'"
     ]
    }
   ],
   "source": [
    "PLAYER.append('SPURS')"
   ]
  },
  {
   "cell_type": "code",
   "execution_count": 22,
   "id": "7425f784",
   "metadata": {},
   "outputs": [
    {
     "ename": "AttributeError",
     "evalue": "'tuple' object has no attribute 'extend'",
     "output_type": "error",
     "traceback": [
      "\u001b[1;31m---------------------------------------------------------------------------\u001b[0m",
      "\u001b[1;31mAttributeError\u001b[0m                            Traceback (most recent call last)",
      "\u001b[1;32m~\\AppData\\Local\\Temp\\ipykernel_9812\\3617321379.py\u001b[0m in \u001b[0;36m<module>\u001b[1;34m\u001b[0m\n\u001b[1;32m----> 1\u001b[1;33m \u001b[0mPLAYER\u001b[0m\u001b[1;33m.\u001b[0m\u001b[0mextend\u001b[0m\u001b[1;33m(\u001b[0m\u001b[1;34m'fcb'\u001b[0m\u001b[1;33m)\u001b[0m\u001b[1;33m\u001b[0m\u001b[1;33m\u001b[0m\u001b[0m\n\u001b[0m",
      "\u001b[1;31mAttributeError\u001b[0m: 'tuple' object has no attribute 'extend'"
     ]
    }
   ],
   "source": [
    "PLAYER.extend('fcb')"
   ]
  },
  {
   "cell_type": "code",
   "execution_count": 23,
   "id": "a00c8369",
   "metadata": {},
   "outputs": [
    {
     "name": "stdout",
     "output_type": "stream",
     "text": [
      "(10, 20)\n"
     ]
    }
   ],
   "source": [
    "print(PLAYER[1:3])"
   ]
  },
  {
   "cell_type": "markdown",
   "id": "90711b39",
   "metadata": {},
   "source": [
    "# Creating set variable"
   ]
  },
  {
   "cell_type": "code",
   "execution_count": 4,
   "id": "41c97f2a",
   "metadata": {},
   "outputs": [
    {
     "data": {
      "text/plain": [
       "{(6+7j), 1, 2, 3, 4, 5, 8, 'Hi', 'Prag', 'hi'}"
      ]
     },
     "execution_count": 4,
     "metadata": {},
     "output_type": "execute_result"
    }
   ],
   "source": [
    "name"
   ]
  },
  {
   "cell_type": "code",
   "execution_count": 5,
   "id": "a27ef01c",
   "metadata": {},
   "outputs": [],
   "source": [
    "name ={1,2,3,8,4,\"hi\",\"Prag\",6+7j,5,\"Hi\",1,2}"
   ]
  },
  {
   "cell_type": "code",
   "execution_count": 6,
   "id": "29780938",
   "metadata": {},
   "outputs": [
    {
     "data": {
      "text/plain": [
       "10"
      ]
     },
     "execution_count": 6,
     "metadata": {},
     "output_type": "execute_result"
    }
   ],
   "source": [
    "len(name)"
   ]
  },
  {
   "cell_type": "code",
   "execution_count": 12,
   "id": "5c786ef8",
   "metadata": {
    "scrolled": true
   },
   "outputs": [],
   "source": [
    "arsenel={1,4,3,2,\"Ironman\",\"Hi\"}"
   ]
  },
  {
   "cell_type": "code",
   "execution_count": 13,
   "id": "206d4cb5",
   "metadata": {},
   "outputs": [
    {
     "data": {
      "text/plain": [
       "set"
      ]
     },
     "execution_count": 13,
     "metadata": {},
     "output_type": "execute_result"
    }
   ],
   "source": [
    "type(name)"
   ]
  },
  {
   "cell_type": "code",
   "execution_count": 16,
   "id": "b3e8c57c",
   "metadata": {},
   "outputs": [
    {
     "data": {
      "text/plain": [
       "{(6+7j), 1, 2, 3, 4, 5, 8, 'FCB', 'Hi', 'Prag', 'hi'}"
      ]
     },
     "execution_count": 16,
     "metadata": {},
     "output_type": "execute_result"
    }
   ],
   "source": [
    "name.add(\"FCB\")\n",
    "name"
   ]
  },
  {
   "cell_type": "code",
   "execution_count": 19,
   "id": "3c198582",
   "metadata": {},
   "outputs": [
    {
     "data": {
      "text/plain": [
       "{1, 2, 3, 4, 'FCB', 'Hi', 'Ironman'}"
      ]
     },
     "execution_count": 19,
     "metadata": {},
     "output_type": "execute_result"
    }
   ],
   "source": [
    "arsenel.add(\"FCB\")\n",
    "arsenel"
   ]
  },
  {
   "cell_type": "code",
   "execution_count": 32,
   "id": "a09b8d94",
   "metadata": {},
   "outputs": [
    {
     "data": {
      "text/plain": [
       "1"
      ]
     },
     "execution_count": 32,
     "metadata": {},
     "output_type": "execute_result"
    }
   ],
   "source": [
    "arsenel\n",
    "arsenel.pop()"
   ]
  },
  {
   "cell_type": "markdown",
   "id": "c0dd5c84",
   "metadata": {},
   "source": [
    "# Dictionary Variable"
   ]
  },
  {
   "cell_type": "code",
   "execution_count": 1,
   "id": "8181d1b9",
   "metadata": {},
   "outputs": [
    {
     "data": {
      "text/plain": [
       "{1: 'Barca', 2: 'LFC', 3: 'FIFA', 4: 'BVB'}"
      ]
     },
     "execution_count": 1,
     "metadata": {},
     "output_type": "execute_result"
    }
   ],
   "source": [
    "fcb = {1:\"Barca\",2:\"LFC\",3:\"FIFA\",4:\"BVB\"}\n",
    "fcb"
   ]
  },
  {
   "cell_type": "code",
   "execution_count": 2,
   "id": "c43f94c9",
   "metadata": {},
   "outputs": [
    {
     "data": {
      "text/plain": [
       "dict_keys([1, 2, 3, 4])"
      ]
     },
     "execution_count": 2,
     "metadata": {},
     "output_type": "execute_result"
    }
   ],
   "source": [
    "fcb.keys()"
   ]
  },
  {
   "cell_type": "code",
   "execution_count": 3,
   "id": "14f5beff",
   "metadata": {},
   "outputs": [
    {
     "data": {
      "text/plain": [
       "dict_values(['Barca', 'LFC', 'FIFA', 'BVB'])"
      ]
     },
     "execution_count": 3,
     "metadata": {},
     "output_type": "execute_result"
    }
   ],
   "source": [
    "fcb.values()"
   ]
  },
  {
   "cell_type": "code",
   "execution_count": 4,
   "id": "efc5d49b",
   "metadata": {},
   "outputs": [
    {
     "data": {
      "text/plain": [
       "dict_items([(1, 'Barca'), (2, 'LFC'), (3, 'FIFA'), (4, 'BVB')])"
      ]
     },
     "execution_count": 4,
     "metadata": {},
     "output_type": "execute_result"
    }
   ],
   "source": [
    "fcb.items()"
   ]
  },
  {
   "cell_type": "code",
   "execution_count": 5,
   "id": "69b19b03",
   "metadata": {},
   "outputs": [
    {
     "data": {
      "text/plain": [
       "'LFC'"
      ]
     },
     "execution_count": 5,
     "metadata": {},
     "output_type": "execute_result"
    }
   ],
   "source": [
    "fcb[2]"
   ]
  },
  {
   "cell_type": "code",
   "execution_count": 6,
   "id": "841d3c18",
   "metadata": {},
   "outputs": [],
   "source": [
    "fcb[5]=\"chelsea\""
   ]
  },
  {
   "cell_type": "code",
   "execution_count": 7,
   "id": "f3c27021",
   "metadata": {},
   "outputs": [
    {
     "data": {
      "text/plain": [
       "dict_items([(1, 'Barca'), (2, 'LFC'), (3, 'FIFA'), (4, 'BVB'), (5, 'chelsea')])"
      ]
     },
     "execution_count": 7,
     "metadata": {},
     "output_type": "execute_result"
    }
   ],
   "source": [
    "fcb.items()"
   ]
  },
  {
   "cell_type": "markdown",
   "id": "ae262a58",
   "metadata": {},
   "source": [
    "# Conditional Statement"
   ]
  },
  {
   "cell_type": "code",
   "execution_count": 1,
   "id": "520e1de0",
   "metadata": {},
   "outputs": [
    {
     "name": "stdout",
     "output_type": "stream",
     "text": [
      "Enter the first number:12\n",
      "Enter the second number:15\n"
     ]
    }
   ],
   "source": [
    "a= int(input(\"Enter the first number:\"))\n",
    "b = int(input(\"Enter the second number:\"))"
   ]
  },
  {
   "cell_type": "code",
   "execution_count": 4,
   "id": "99f82983",
   "metadata": {},
   "outputs": [
    {
     "name": "stdout",
     "output_type": "stream",
     "text": [
      "false\n"
     ]
    }
   ],
   "source": [
    "if a>b:\n",
    "    print(\"true\")\n",
    "else:\n",
    "    print(\"false\")"
   ]
  },
  {
   "cell_type": "code",
   "execution_count": 5,
   "id": "d85e6b37",
   "metadata": {},
   "outputs": [
    {
     "name": "stdout",
     "output_type": "stream",
     "text": [
      "true\n"
     ]
    }
   ],
   "source": [
    "if int(a)%2==0:\n",
    "     print(\"true\")\n",
    "else:\n",
    "    print(\"false\")"
   ]
  },
  {
   "cell_type": "code",
   "execution_count": 7,
   "id": "62a5142c",
   "metadata": {},
   "outputs": [
    {
     "name": "stdout",
     "output_type": "stream",
     "text": [
      "false\n"
     ]
    }
   ],
   "source": [
    "if int(a)%int(b)==0:\n",
    "     print(\"true\")\n",
    "else:\n",
    "    print(\"false\")"
   ]
  },
  {
   "cell_type": "markdown",
   "id": "fb60c9a8",
   "metadata": {},
   "source": [
    "if int (num1)>num2:\n",
    "    print(\"The number {num1} is greater {num2}\")"
   ]
  },
  {
   "cell_type": "markdown",
   "id": "5c6401e8",
   "metadata": {},
   "source": [
    "# Negative or Positive"
   ]
  },
  {
   "cell_type": "code",
   "execution_count": 27,
   "id": "b8eabc20",
   "metadata": {},
   "outputs": [
    {
     "name": "stdout",
     "output_type": "stream",
     "text": [
      "Enter the first number:-10\n"
     ]
    }
   ],
   "source": [
    "a= int(input(\"Enter the first number:\"))"
   ]
  },
  {
   "cell_type": "code",
   "execution_count": 28,
   "id": "9c2bf3c5",
   "metadata": {
    "collapsed": true
   },
   "outputs": [
    {
     "name": "stdout",
     "output_type": "stream",
     "text": [
      "The number is Negative\n"
     ]
    }
   ],
   "source": [
    "if a<0:\n",
    "    print(f\"The number is Negative\")\n",
    "elif a==0:\n",
    "    print(\"The number is Equal\")\n",
    "else:\n",
    "    print(\"The number is Positive\")\n",
    "    "
   ]
  },
  {
   "cell_type": "markdown",
   "id": "d5d6eb31",
   "metadata": {},
   "source": [
    "# Creating a List"
   ]
  },
  {
   "cell_type": "code",
   "execution_count": 29,
   "id": "fc4fba46",
   "metadata": {},
   "outputs": [],
   "source": [
    "num = (1,2,3,4,5,6,'LEO','FCB',9,10)"
   ]
  },
  {
   "cell_type": "code",
   "execution_count": 30,
   "id": "2155b0dc",
   "metadata": {},
   "outputs": [],
   "source": [
    "ivy = ('vikki','leo','vendhan','vairam','aswin','allan')"
   ]
  },
  {
   "cell_type": "markdown",
   "id": "6731552f",
   "metadata": {},
   "source": [
    "# Printing the List"
   ]
  },
  {
   "cell_type": "code",
   "execution_count": 32,
   "id": "1fa42f46",
   "metadata": {
    "collapsed": true
   },
   "outputs": [
    {
     "name": "stdout",
     "output_type": "stream",
     "text": [
      "vikki\n",
      "leo\n",
      "vendhan\n",
      "vairam\n",
      "aswin\n",
      "allan\n"
     ]
    }
   ],
   "source": [
    "for i in ivy :\n",
    "    print(i)"
   ]
  },
  {
   "cell_type": "markdown",
   "id": "e2c25d39",
   "metadata": {},
   "source": [
    "# For Loop - Example 2"
   ]
  },
  {
   "cell_type": "code",
   "execution_count": 36,
   "id": "7e32775b",
   "metadata": {},
   "outputs": [],
   "source": [
    "a =[1,2,3,4,5,6,7,8,9,10]"
   ]
  },
  {
   "cell_type": "code",
   "execution_count": 39,
   "id": "c4183837",
   "metadata": {
    "collapsed": true
   },
   "outputs": [
    {
     "name": "stdout",
     "output_type": "stream",
     "text": [
      "1 This is odd number\n",
      "2 This is Even Number\n",
      "3 This is odd number\n",
      "4 This is Even Number\n",
      "5 This is odd number\n",
      "6 This is Even Number\n",
      "7 This is odd number\n",
      "8 This is Even Number\n",
      "9 This is odd number\n",
      "10 This is Even Number\n"
     ]
    }
   ],
   "source": [
    "for i in a:\n",
    "    if i%2==0:\n",
    "        print(i,\"This is Even Number\")\n",
    "    else:\n",
    "        print(i,\"This is odd number\")"
   ]
  },
  {
   "cell_type": "markdown",
   "id": "bd6a648f",
   "metadata": {},
   "source": [
    "# While loop Example"
   ]
  },
  {
   "cell_type": "code",
   "execution_count": 12,
   "id": "c9b054d1",
   "metadata": {
    "collapsed": true
   },
   "outputs": [
    {
     "name": "stdout",
     "output_type": "stream",
     "text": [
      "Enter a number: 10\n",
      "The sum is 0\n",
      "The sum is 1\n",
      "The sum is 3\n",
      "The sum is 6\n",
      "The sum is 10\n",
      "The sum is 15\n",
      "The sum is 21\n",
      "The sum is 28\n",
      "The sum is 36\n",
      "The sum is 45\n",
      "The sum is 55\n"
     ]
    }
   ],
   "source": [
    "n = input(\"Enter a number: \")\n",
    "val = 0\n",
    "i = 0\n",
    "\n",
    "while i <=int(n):\n",
    "    val += i\n",
    "    i += 1\n",
    "    print(f\"The sum is {val}\")"
   ]
  },
  {
   "cell_type": "code",
   "execution_count": 19,
   "id": "0485c519",
   "metadata": {
    "collapsed": true
   },
   "outputs": [
    {
     "name": "stdout",
     "output_type": "stream",
     "text": [
      "Inside of loop\n",
      "Inside of loop\n",
      "Inside of loop\n",
      "Inside of loop\n",
      "Inside of loop\n",
      "Inside of loop\n",
      "Inside of loop\n",
      "Inside of loop\n",
      "Inside of loop\n",
      "Inside of loop\n",
      "Inside of loop\n",
      "Inside of loop\n",
      "Inside of loop\n",
      "Inside of loop\n",
      "Get out of loop\n"
     ]
    }
   ],
   "source": [
    "counter = 1\n",
    "\n",
    "while counter < 15 :\n",
    "    print(\"Inside of loop\")\n",
    "    counter = counter + 1\n",
    "else:\n",
    "    print(\"Get out of loop\")"
   ]
  },
  {
   "cell_type": "markdown",
   "id": "35471531",
   "metadata": {},
   "source": [
    "# For Loop"
   ]
  },
  {
   "cell_type": "code",
   "execution_count": 30,
   "id": "9aa3ac2f",
   "metadata": {
    "collapsed": true
   },
   "outputs": [
    {
     "name": "stdout",
     "output_type": "stream",
     "text": [
      "L\n",
      "E\n",
      "O\n",
      "THE INEVITABLE\n"
     ]
    }
   ],
   "source": [
    "for val in \"LEO\":\n",
    "    if val == \"i\":\n",
    "        break\n",
    "    print(val)\n",
    "\n",
    "print(\"THE INEVITABLE\")    "
   ]
  },
  {
   "cell_type": "markdown",
   "id": "eebdd05e",
   "metadata": {},
   "source": [
    "\n",
    "# BASIC OF FUN"
   ]
  },
  {
   "cell_type": "code",
   "execution_count": 3,
   "id": "93d48de1",
   "metadata": {},
   "outputs": [],
   "source": [
    "def intro(): \n",
    "    \n",
    "    print(\"Hola VIKKI\")"
   ]
  },
  {
   "cell_type": "code",
   "execution_count": 7,
   "id": "8108b5b3",
   "metadata": {
    "collapsed": true
   },
   "outputs": [
    {
     "name": "stdout",
     "output_type": "stream",
     "text": [
      "Hola VIKKI\n"
     ]
    }
   ],
   "source": [
    "intro()"
   ]
  },
  {
   "cell_type": "markdown",
   "id": "14e387df",
   "metadata": {},
   "source": [
    "# EX 2"
   ]
  },
  {
   "cell_type": "code",
   "execution_count": 5,
   "id": "3cf83c20",
   "metadata": {},
   "outputs": [],
   "source": [
    "def sumval(a,b):\n",
    "    return a+b"
   ]
  },
  {
   "cell_type": "code",
   "execution_count": 6,
   "id": "1e26dc3a",
   "metadata": {
    "collapsed": true
   },
   "outputs": [
    {
     "name": "stdout",
     "output_type": "stream",
     "text": [
      "Enter the First Number:10\n",
      "Enter the Second Number:40\n",
      "The sum is 50\n"
     ]
    }
   ],
   "source": [
    "num1 = int(input(\"Enter the First Number:\"))\n",
    "num2 = int(input(\"Enter the Second Number:\"))\n",
    "add = sumval(num1,num2)\n",
    "print (f\"The sum is {add}\")"
   ]
  },
  {
   "cell_type": "code",
   "execution_count": null,
   "id": "db787e4c",
   "metadata": {},
   "outputs": [],
   "source": []
  }
 ],
 "metadata": {
  "kernelspec": {
   "display_name": "Python 3 (ipykernel)",
   "language": "python",
   "name": "python3"
  },
  "language_info": {
   "codemirror_mode": {
    "name": "ipython",
    "version": 3
   },
   "file_extension": ".py",
   "mimetype": "text/x-python",
   "name": "python",
   "nbconvert_exporter": "python",
   "pygments_lexer": "ipython3",
   "version": "3.9.13"
  },
  "widgets": {
   "application/vnd.jupyter.widget-state+json": {
    "state": {},
    "version_major": 2,
    "version_minor": 0
   }
  }
 },
 "nbformat": 4,
 "nbformat_minor": 5
}
